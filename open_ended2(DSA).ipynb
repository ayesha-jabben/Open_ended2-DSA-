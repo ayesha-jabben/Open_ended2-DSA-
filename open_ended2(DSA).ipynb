{
  "nbformat": 4,
  "nbformat_minor": 0,
  "metadata": {
    "colab": {
      "provenance": []
    },
    "kernelspec": {
      "name": "python3",
      "display_name": "Python 3"
    },
    "language_info": {
      "name": "python"
    }
  },
  "cells": [
    {
      "cell_type": "code",
      "source": [
        "#dictionary to count frequency of each letter\n",
        "def longest_pd(string):\n",
        "    count = {}\n",
        "    for char in string:\n",
        "        count[char] = count.get(char, 0) + 1\n",
        "\n",
        "    #initialize variable for length of palindrome\n",
        "    length = 0\n",
        "    odd_val = False\n",
        "\n",
        "    #calculate max length\n",
        "    for count in count.values():\n",
        "        length += (count // 2) * 2\n",
        "        if count % 2 == 1:\n",
        "            odd_val = True\n",
        "\n",
        "    if odd_val:\n",
        "        length += 1\n",
        "\n",
        "    return length\n",
        "\n"
      ],
      "metadata": {
        "colab": {
          "base_uri": "https://localhost:8080/"
        },
        "id": "HssBOpAUtfbZ",
        "outputId": "0a3d70a3-ca76-44f9-a22b-ca11d6b94863"
      },
      "execution_count": 20,
      "outputs": [
        {
          "output_type": "stream",
          "name": "stdout",
          "text": [
            "abcccdd\n",
            "5\n"
          ]
        }
      ]
    },
    {
      "cell_type": "code",
      "source": [
        "s1 = \"abcccdd\"\n",
        "print(s1)\n",
        "print(longest_pd(s1))"
      ],
      "metadata": {
        "colab": {
          "base_uri": "https://localhost:8080/"
        },
        "id": "ldH2MpWHzYK2",
        "outputId": "a7afde87-06aa-4d8a-9559-32a3a99e2015"
      },
      "execution_count": 21,
      "outputs": [
        {
          "output_type": "stream",
          "name": "stdout",
          "text": [
            "abcccdd\n",
            "5\n"
          ]
        }
      ]
    },
    {
      "cell_type": "code",
      "source": [
        "s1 = \"wrrrtttfffff\"\n",
        "print(s1)\n",
        "print(longest_pd(s1))"
      ],
      "metadata": {
        "colab": {
          "base_uri": "https://localhost:8080/"
        },
        "id": "qag-InthwB9f",
        "outputId": "b7f7f6d0-8606-47f1-af15-25b9576fbc3a"
      },
      "execution_count": 22,
      "outputs": [
        {
          "output_type": "stream",
          "name": "stdout",
          "text": [
            "wrrrtttfffff\n",
            "9\n"
          ]
        }
      ]
    },
    {
      "cell_type": "code",
      "source": [],
      "metadata": {
        "id": "QyicavV2yzoV"
      },
      "execution_count": null,
      "outputs": []
    }
  ]
}